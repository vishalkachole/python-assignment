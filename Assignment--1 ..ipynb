{
 "cells": [
  {
   "cell_type": "markdown",
   "id": "6498d7e0-98b1-4763-bbce-6c1dc88c54f0",
   "metadata": {},
   "source": [
    "### Q1)Write a program that will give you in hand monthly salary after deduction on CTC - HRA(10%), DA(5%), PF(3%) and taxes deduction as below:\r\n",
    "Salary(Lakhs) : Tax(%)\r",
    "- Below 5 : 0%\n",
    "- 5 - 10 : 10%\n",
    "- 10 - 20 : 20%\n",
    "- Above 20 : 30%             : 30%"
   ]
  },
  {
   "cell_type": "code",
   "execution_count": 1,
   "id": "067c3a6c-7307-4229-943f-4f2dccb92ac2",
   "metadata": {},
   "outputs": [
    {
     "name": "stdin",
     "output_type": "stream",
     "text": [
      "Enter anual income in ruppes :  700000\n"
     ]
    },
    {
     "name": "stdout",
     "output_type": "stream",
     "text": [
      "Total deduction from anual salary = 196000.0\n",
      "Your monthly in hand salary will be = 42000.0\n"
     ]
    }
   ],
   "source": [
    "HRA=10\n",
    "DA=5\n",
    "PF=3\n",
    "\n",
    "salary=int(input(\"Enter anual income in ruppes : \"))\n",
    "\n",
    "if salary<0:\n",
    "    print(\"Enter valid amount !! \")\n",
    "    \n",
    "elif salary<500000:\n",
    "    tax1=0\n",
    "    d1= (salary*(HRA/100)) +  (salary*(DA/100)) + (salary*(PF/100)) + (salary*(tax1/100))\n",
    "    print(\"Total deduction from anual salary = {0}\".format(d1))\n",
    "    y_salary1 = salary-d1\n",
    "    m_salary1 = y_salary1/12\n",
    "    print(\"Your monthly in hand salary will be = {0} \".format(m_salary1))\n",
    "    \n",
    "elif 500000<salary<1000000:\n",
    "    tax2=10\n",
    "    d2= (salary*(HRA/100)) +  (salary*(DA/100)) + (salary*(PF/100)) + (salary*(tax2/100))\n",
    "    print(\"Total deduction from anual salary = {0}\".format(d2))\n",
    "    y_salary2 = salary-d2\n",
    "    m_salary2 = y_salary2/12\n",
    "    print(\"Your monthly in hand salary will be = {0}\".format(m_salary2))\n",
    "\n",
    "elif 1000000<salary<2000000:\n",
    "    tax3=20\n",
    "    d3= (salary*(HRA/100)) +  (salary*(DA/100)) + (salary*(PF/100)) + (salary*(tax3/100))\n",
    "    print(\"Total deduction from anual salary = {0}\".format(d3))\n",
    "    y_salary3 = salary-d3\n",
    "    m_salary3 = y_salary3/12\n",
    "    print(\"Your monthly in hand salary will be = {0}\".format(m_salary3))\n",
    "\n",
    "else:\n",
    "    tax4=30\n",
    "    d4= (salary*(HRA/100)) +  (salary*(DA/100)) + (salary*(PF/100)) + (salary*(tax4/100))\n",
    "    print(\"Total deduction from anual salary = {0}\".format(d4))\n",
    "    y_salary4 = salary-d4\n",
    "    m_salary4 = y_salary4/12\n",
    "    print(\"Your monthly in hand salary will be = {0} \".format(m_salary4))"
   ]
  },
  {
   "cell_type": "markdown",
   "id": "1c4ab4de-6bab-44ef-8e5b-7b7421031121",
   "metadata": {},
   "source": [
    "### Q2)Write a program that take a user input of three angles and will find out whether it can form a triangle or not.\r\n"
   ]
  },
  {
   "cell_type": "code",
   "execution_count": 2,
   "id": "2e09dba6-dd2f-4531-a227-99d775556f07",
   "metadata": {},
   "outputs": [
    {
     "name": "stdin",
     "output_type": "stream",
     "text": [
      "Enter first angle :  60\n",
      "Enter second angle :  60\n",
      "Enter third angle :  60\n"
     ]
    },
    {
     "name": "stdout",
     "output_type": "stream",
     "text": [
      "You can form the triangle !\n"
     ]
    }
   ],
   "source": [
    "a=int(input(\"Enter first angle : \"))\n",
    "b=int(input(\"Enter second angle : \"))\n",
    "c=int(input(\"Enter third angle : \"))\n",
    "sum = a+b+c\n",
    "\n",
    "if sum == 180:\n",
    "    print(\"You can form the triangle !\")\n",
    "else:\n",
    "    print(\"You can not form the triangle\")"
   ]
  },
  {
   "cell_type": "markdown",
   "id": "2cbd18a8-da43-4c12-a590-c318a130031f",
   "metadata": {},
   "source": [
    "### Q3)Write a program that will take user input of cost price and selling price and determines whether its a loss or a profit."
   ]
  },
  {
   "cell_type": "code",
   "execution_count": 3,
   "id": "289e556b-9887-4947-a845-52dce241b371",
   "metadata": {},
   "outputs": [
    {
     "name": "stdin",
     "output_type": "stream",
     "text": [
      "Enter the cost price :  5999\n",
      "Enter selling price :  6500\n"
     ]
    },
    {
     "name": "stdout",
     "output_type": "stream",
     "text": [
      "profit\n"
     ]
    }
   ],
   "source": [
    "cp=input(\"Enter the cost price : \")\n",
    "sp=input(\"Enter selling price : \")\n",
    "\n",
    "if sp>cp:\n",
    "    print(\"profit\")\n",
    "else:\n",
    "    print(\"Loss\")"
   ]
  },
  {
   "cell_type": "markdown",
   "id": "d3bd1815-b6db-4e57-9758-e05ba8cbd98e",
   "metadata": {},
   "source": [
    "### Q4)Write a menu-driven program -\n",
    "1) cm to ft\n",
    "2) km to mile\n",
    "3) USD to INR\n",
    "4) exittexit"
   ]
  },
  {
   "cell_type": "code",
   "execution_count": 4,
   "id": "d1f25730-52e0-49d2-8052-22b05d4e5712",
   "metadata": {},
   "outputs": [
    {
     "name": "stdin",
     "output_type": "stream",
     "text": [
      "Enter 1 for converting cm into ft, 2 for converting km into miles and 3 for converting USD into INR :  3\n",
      "Enter USD :  1\n"
     ]
    },
    {
     "name": "stdout",
     "output_type": "stream",
     "text": [
      "INR = 83.56\n"
     ]
    }
   ],
   "source": [
    "value =int(input(\"Enter 1 for converting cm into ft, 2 for converting km into miles and 3 for converting USD into INR : \"))\n",
    "\n",
    "if value==1:\n",
    "    cm=float(input(\"Enter centimeter value : \"))\n",
    "    ft=cm*0.032808399\n",
    "    print(\"ft={0}\".format(ft))\n",
    "elif value==2:\n",
    "    km=float(input(\"Enter kilometers : \"))\n",
    "    miles=km*0.621371\n",
    "    print(\"Miles ={0}\".format(miles))\n",
    "elif value==3:\n",
    "    usd=float(input(\"Enter USD : \"))\n",
    "    inr=usd*83.56\n",
    "    print(\"INR = {0}\".format(inr))\n",
    "else:\n",
    "    print(\"Invalid input !\")"
   ]
  },
  {
   "cell_type": "markdown",
   "id": "51306668-e1bc-4c7e-9424-9dfc8e1d47b8",
   "metadata": {},
   "source": [
    "### Q5)Display Fibonacci series up to 10 terms.\r\n",
    "Note: The Fibonacci Sequence is a series of numbers. The next number is found by adding up the two numbers before it. The first two numbers are 0 and 1. For example, 0, 1, 1, 2, 3, 5, 8, 13, 21. The next number in this series above is 13+21 = 34"
   ]
  },
  {
   "cell_type": "code",
   "execution_count": 5,
   "id": "a56e8e12-20fb-4a82-a5fe-fb71a00a9936",
   "metadata": {},
   "outputs": [
    {
     "name": "stdout",
     "output_type": "stream",
     "text": [
      "0\n",
      "1\n",
      "1\n",
      "2\n",
      "3\n",
      "5\n",
      "8\n",
      "13\n",
      "21\n",
      "34\n",
      "55\n",
      "89\n"
     ]
    }
   ],
   "source": [
    "n=10\n",
    "n1=0\n",
    "n2=1\n",
    "count=0\n",
    "print(n1)\n",
    "print(n2)\n",
    "for i in range(n):\n",
    "    temp=n2\n",
    "    n2=n2+n1\n",
    "    n1=temp\n",
    "    count+=1\n",
    "    print(n2)"
   ]
  },
  {
   "cell_type": "markdown",
   "id": "b3c9bfac-3cc8-47d1-8b41-2a8b84854fdf",
   "metadata": {},
   "source": [
    "### Q6) Find the factorial of a given number.\r\n",
    "Write a program to use the loop to find the factorial of a given number.\r\n",
    "\r\n",
    "The factorial (symbol: !) means to multiply all whole numbers from the chosen number down to 1.\r\n",
    "\r\n",
    "For example: calculate the factorial of 5"
   ]
  },
  {
   "cell_type": "code",
   "execution_count": 6,
   "id": "b4b8eaf7-385d-4b2d-941d-e33edb4aaa23",
   "metadata": {},
   "outputs": [
    {
     "name": "stdin",
     "output_type": "stream",
     "text": [
      "Enter the number to find factorial :  5\n"
     ]
    },
    {
     "name": "stdout",
     "output_type": "stream",
     "text": [
      "120\n"
     ]
    }
   ],
   "source": [
    "n=int(input(\"Enter the number to find factorial : \"))\n",
    "i=1\n",
    "fact=1\n",
    "for i in range(n):\n",
    "    i=i+1\n",
    "    fact=fact*i\n",
    "    \n",
    "print(fact)"
   ]
  },
  {
   "cell_type": "markdown",
   "id": "4182a5d6-df7d-4952-9c6b-5c8143113227",
   "metadata": {},
   "source": [
    "### Q7)Reverse a given integer number."
   ]
  },
  {
   "cell_type": "code",
   "execution_count": 7,
   "id": "d2f10411-8512-444e-99b8-007e3e8ea752",
   "metadata": {},
   "outputs": [
    {
     "name": "stdin",
     "output_type": "stream",
     "text": [
      "Enter number :  1667\n"
     ]
    },
    {
     "name": "stdout",
     "output_type": "stream",
     "text": [
      "7661\n"
     ]
    }
   ],
   "source": [
    "n=int(input(\"Enter number : \"))\n",
    "rev=0\n",
    "\n",
    "while (n>0):\n",
    "    a=n % 10\n",
    "    rev = rev*10+a\n",
    "    n=n//10\n",
    "print(rev)"
   ]
  },
  {
   "cell_type": "markdown",
   "id": "ab704b91-1d59-49b6-b379-f316fe1dab9e",
   "metadata": {},
   "source": [
    "### Q8) Take a user input as integer N. Find out the sum from 1 to N. If any number if divisible by 5, then skip that number. And if the sum is greater than 300, don't need to calculate the sum further more. Print the final result. And don't use for loop to solve this problem."
   ]
  },
  {
   "cell_type": "code",
   "execution_count": 8,
   "id": "11d5af5c-bcce-4e76-8e82-011c7073ebc2",
   "metadata": {},
   "outputs": [
    {
     "name": "stdin",
     "output_type": "stream",
     "text": [
      "Enter a number :  50\n"
     ]
    },
    {
     "name": "stdout",
     "output_type": "stream",
     "text": [
      "276\n"
     ]
    }
   ],
   "source": [
    "n=int(input(\"Enter a number : \"))\n",
    "sum=0\n",
    "i=0\n",
    "while (i<n):\n",
    "    i+=1\n",
    "    sum=sum+i\n",
    "    if i%5==0:\n",
    "        sum=sum-i\n",
    "    elif sum>300:\n",
    "        sum=sum-i\n",
    "    \n",
    "print(sum)"
   ]
  },
  {
   "cell_type": "markdown",
   "id": "d445ec80-2f3f-4b84-a60d-b0656636d552",
   "metadata": {},
   "source": [
    "### Q9)Write a program that keeps on accepting a number from the user until the user enters Zero. Display the sum and average of all the numbers."
   ]
  },
  {
   "cell_type": "code",
   "execution_count": 9,
   "id": "69d5d365-3cc5-45ce-ac54-1e763fa5e9e9",
   "metadata": {},
   "outputs": [
    {
     "name": "stdin",
     "output_type": "stream",
     "text": [
      "No :  3\n",
      "No :  4\n",
      "No :  4\n",
      "No :  4\n",
      "No :  0\n"
     ]
    },
    {
     "name": "stdout",
     "output_type": "stream",
     "text": [
      "Average =  5\n",
      "sum =  15\n"
     ]
    }
   ],
   "source": [
    "n=1\n",
    "sum=0\n",
    "count=0\n",
    "\n",
    "while n!=0:\n",
    "    n=int(input(\"No : \"))\n",
    "    sum=sum+n\n",
    "    count+=1\n",
    "   \n",
    "if count == 0:\n",
    "    print(\"Input some numbers\")\n",
    "else:\n",
    "    # Calculate and display the average and sum of the entered numbers\n",
    "    print(\"Average = \", (count-n))\n",
    "    print(\"sum = \",sum)"
   ]
  },
  {
   "cell_type": "markdown",
   "id": "ea62a6c8-5e46-4df7-b03d-001d81103e35",
   "metadata": {},
   "source": [
    "### Q10)Write a program which will find all such numbers which are divisible by 7 but are not a multiple of 5, between 2000 and 3200 (both included). The numbers obtained should be printed in a comma-separated sequence on a single line."
   ]
  },
  {
   "cell_type": "code",
   "execution_count": 10,
   "id": "e1d13762-ca7a-4317-af7b-47f50eb62a11",
   "metadata": {},
   "outputs": [
    {
     "name": "stdout",
     "output_type": "stream",
     "text": [
      "[2001, 2003, 2004, 2006, 2007, 2008, 2011, 2012, 2013, 2014, 2017, 2018, 2019, 2021, 2022, 2024, 2026, 2027, 2028, 2029, 2031, 2032, 2033, 2034, 2036, 2038, 2039, 2041, 2042, 2043, 2046, 2047, 2048, 2049, 2052, 2053, 2054, 2056, 2057, 2059, 2061, 2062, 2063, 2064, 2066, 2067, 2068, 2069, 2071, 2073, 2074, 2076, 2077, 2078, 2081, 2082, 2083, 2084, 2087, 2088, 2089, 2091, 2092, 2094, 2096, 2097, 2098, 2099, 2101, 2102, 2103, 2104, 2106, 2108, 2109, 2111, 2112, 2113, 2116, 2117, 2118, 2119, 2122, 2123, 2124, 2126, 2127, 2129, 2131, 2132, 2133, 2134, 2136, 2137, 2138, 2139, 2141, 2143, 2144, 2146, 2147, 2148, 2151, 2152, 2153, 2154, 2157, 2158, 2159, 2161, 2162, 2164, 2166, 2167, 2168, 2169, 2171, 2172, 2173, 2174, 2176, 2178, 2179, 2181, 2182, 2183, 2186, 2187, 2188, 2189, 2192, 2193, 2194, 2196, 2197, 2199, 2201, 2202, 2203, 2204, 2206, 2207, 2208, 2209, 2211, 2213, 2214, 2216, 2217, 2218, 2221, 2222, 2223, 2224, 2227, 2228, 2229, 2231, 2232, 2234, 2236, 2237, 2238, 2239, 2241, 2242, 2243, 2244, 2246, 2248, 2249, 2251, 2252, 2253, 2256, 2257, 2258, 2259, 2262, 2263, 2264, 2266, 2267, 2269, 2271, 2272, 2273, 2274, 2276, 2277, 2278, 2279, 2281, 2283, 2284, 2286, 2287, 2288, 2291, 2292, 2293, 2294, 2297, 2298, 2299, 2301, 2302, 2304, 2306, 2307, 2308, 2309, 2311, 2312, 2313, 2314, 2316, 2318, 2319, 2321, 2322, 2323, 2326, 2327, 2328, 2329, 2332, 2333, 2334, 2336, 2337, 2339, 2341, 2342, 2343, 2344, 2346, 2347, 2348, 2349, 2351, 2353, 2354, 2356, 2357, 2358, 2361, 2362, 2363, 2364, 2367, 2368, 2369, 2371, 2372, 2374, 2376, 2377, 2378, 2379, 2381, 2382, 2383, 2384, 2386, 2388, 2389, 2391, 2392, 2393, 2396, 2397, 2398, 2399, 2402, 2403, 2404, 2406, 2407, 2409, 2411, 2412, 2413, 2414, 2416, 2417, 2418, 2419, 2421, 2423, 2424, 2426, 2427, 2428, 2431, 2432, 2433, 2434, 2437, 2438, 2439, 2441, 2442, 2444, 2446, 2447, 2448, 2449, 2451, 2452, 2453, 2454, 2456, 2458, 2459, 2461, 2462, 2463, 2466, 2467, 2468, 2469, 2472, 2473, 2474, 2476, 2477, 2479, 2481, 2482, 2483, 2484, 2486, 2487, 2488, 2489, 2491, 2493, 2494, 2496, 2497, 2498, 2501, 2502, 2503, 2504, 2507, 2508, 2509, 2511, 2512, 2514, 2516, 2517, 2518, 2519, 2521, 2522, 2523, 2524, 2526, 2528, 2529, 2531, 2532, 2533, 2536, 2537, 2538, 2539, 2542, 2543, 2544, 2546, 2547, 2549, 2551, 2552, 2553, 2554, 2556, 2557, 2558, 2559, 2561, 2563, 2564, 2566, 2567, 2568, 2571, 2572, 2573, 2574, 2577, 2578, 2579, 2581, 2582, 2584, 2586, 2587, 2588, 2589, 2591, 2592, 2593, 2594, 2596, 2598, 2599, 2601, 2602, 2603, 2606, 2607, 2608, 2609, 2612, 2613, 2614, 2616, 2617, 2619, 2621, 2622, 2623, 2624, 2626, 2627, 2628, 2629, 2631, 2633, 2634, 2636, 2637, 2638, 2641, 2642, 2643, 2644, 2647, 2648, 2649, 2651, 2652, 2654, 2656, 2657, 2658, 2659, 2661, 2662, 2663, 2664, 2666, 2668, 2669, 2671, 2672, 2673, 2676, 2677, 2678, 2679, 2682, 2683, 2684, 2686, 2687, 2689, 2691, 2692, 2693, 2694, 2696, 2697, 2698, 2699, 2701, 2703, 2704, 2706, 2707, 2708, 2711, 2712, 2713, 2714, 2717, 2718, 2719, 2721, 2722, 2724, 2726, 2727, 2728, 2729, 2731, 2732, 2733, 2734, 2736, 2738, 2739, 2741, 2742, 2743, 2746, 2747, 2748, 2749, 2752, 2753, 2754, 2756, 2757, 2759, 2761, 2762, 2763, 2764, 2766, 2767, 2768, 2769, 2771, 2773, 2774, 2776, 2777, 2778, 2781, 2782, 2783, 2784, 2787, 2788, 2789, 2791, 2792, 2794, 2796, 2797, 2798, 2799, 2801, 2802, 2803, 2804, 2806, 2808, 2809, 2811, 2812, 2813, 2816, 2817, 2818, 2819, 2822, 2823, 2824, 2826, 2827, 2829, 2831, 2832, 2833, 2834, 2836, 2837, 2838, 2839, 2841, 2843, 2844, 2846, 2847, 2848, 2851, 2852, 2853, 2854, 2857, 2858, 2859, 2861, 2862, 2864, 2866, 2867, 2868, 2869, 2871, 2872, 2873, 2874, 2876, 2878, 2879, 2881, 2882, 2883, 2886, 2887, 2888, 2889, 2892, 2893, 2894, 2896, 2897, 2899, 2901, 2902, 2903, 2904, 2906, 2907, 2908, 2909, 2911, 2913, 2914, 2916, 2917, 2918, 2921, 2922, 2923, 2924, 2927, 2928, 2929, 2931, 2932, 2934, 2936, 2937, 2938, 2939, 2941, 2942, 2943, 2944, 2946, 2948, 2949, 2951, 2952, 2953, 2956, 2957, 2958, 2959, 2962, 2963, 2964, 2966, 2967, 2969, 2971, 2972, 2973, 2974, 2976, 2977, 2978, 2979, 2981, 2983, 2984, 2986, 2987, 2988, 2991, 2992, 2993, 2994, 2997, 2998, 2999, 3001, 3002, 3004, 3006, 3007, 3008, 3009, 3011, 3012, 3013, 3014, 3016, 3018, 3019, 3021, 3022, 3023, 3026, 3027, 3028, 3029, 3032, 3033, 3034, 3036, 3037, 3039, 3041, 3042, 3043, 3044, 3046, 3047, 3048, 3049, 3051, 3053, 3054, 3056, 3057, 3058, 3061, 3062, 3063, 3064, 3067, 3068, 3069, 3071, 3072, 3074, 3076, 3077, 3078, 3079, 3081, 3082, 3083, 3084, 3086, 3088, 3089, 3091, 3092, 3093, 3096, 3097, 3098, 3099, 3102, 3103, 3104, 3106, 3107, 3109, 3111, 3112, 3113, 3114, 3116, 3117, 3118, 3119, 3121, 3123, 3124, 3126, 3127, 3128, 3131, 3132, 3133, 3134, 3137, 3138, 3139, 3141, 3142, 3144, 3146, 3147, 3148, 3149, 3151, 3152, 3153, 3154, 3156, 3158, 3159, 3161, 3162, 3163, 3166, 3167, 3168, 3169, 3172, 3173, 3174, 3176, 3177, 3179, 3181, 3182, 3183, 3184, 3186, 3187, 3188, 3189, 3191, 3193, 3194, 3196, 3197, 3198]\n"
     ]
    }
   ],
   "source": [
    "li=[]\n",
    "for i in range(2000,3200):\n",
    "      if i%7!=0 and i%5!=0:\n",
    "             li.append(i)\n",
    "print(li , sep=',')"
   ]
  },
  {
   "cell_type": "markdown",
   "id": "a56aa7d9-5e34-4a3b-99da-9ba9d1b986ed",
   "metadata": {},
   "source": [
    "### Q11) Write a program, which will find all such numbers between 1000 and 3000 (both included) such that each digit of the number is an even number. The numbers obtained should be printed in a space-separated sequence on a single line."
   ]
  },
  {
   "cell_type": "code",
   "execution_count": 2,
   "id": "a7684834-e268-497a-91bd-ac7c8a90269e",
   "metadata": {},
   "outputs": [
    {
     "name": "stdout",
     "output_type": "stream",
     "text": [
      "2000 2002 2004 2006 2008 2020 2022 2024 2026 2028 2040 2042 2044 2046 2048 2060 2062 2064 2066 2068 2080 2082 2084 2086 2088 2200 2202 2204 2206 2208 2220 2222 2224 2226 2228 2240 2242 2244 2246 2248 2260 2262 2264 2266 2268 2280 2282 2284 2286 2288 2400 2402 2404 2406 2408 2420 2422 2424 2426 2428 2440 2442 2444 2446 2448 2460 2462 2464 2466 2468 2480 2482 2484 2486 2488 2600 2602 2604 2606 2608 2620 2622 2624 2626 2628 2640 2642 2644 2646 2648 2660 2662 2664 2666 2668 2680 2682 2684 2686 2688 2800 2802 2804 2806 2808 2820 2822 2824 2826 2828 2840 2842 2844 2846 2848 2860 2862 2864 2866 2868 2880 2882 2884 2886 2888\n"
     ]
    }
   ],
   "source": [
    "def l2(no):\n",
    "    for no in str(no):\n",
    "        if int(no)%2 !=0:\n",
    "            return False\n",
    "    return True\n",
    "\n",
    "li=[]\n",
    "for no in range(1000,3000):\n",
    "    if l2(no):\n",
    "        li.append(str(no))\n",
    "\n",
    "print(\" \".join(li))"
   ]
  },
  {
   "cell_type": "markdown",
   "id": "d03e3251-0d59-49ac-8b83-ce820db17b18",
   "metadata": {},
   "source": [
    "### Q12) A robot moves in a plane starting from the original point (0,0). The robot can move toward UP, DOWN, LEFT and RIGHT with a given steps. \n",
    "The trace of robot movement is shown as the following:\n",
    "```\n",
    "UP 5\n",
    "DOWN 3\n",
    "LEFT 3\n",
    "RIGHT 2\n",
    "!\n",
    "```\n",
    "-  The numbers after the direction are steps. \n",
    "\n",
    "- `!` means robot stop there.\n",
    "\n",
    "**Please write a program to compute the distance from current position after a sequence of movement and original point.** \n"
   ]
  },
  {
   "cell_type": "code",
   "execution_count": 4,
   "id": "af463fed-d797-4c8f-a618-9137b041b761",
   "metadata": {},
   "outputs": [
    {
     "name": "stdout",
     "output_type": "stream",
     "text": [
      "2\n"
     ]
    }
   ],
   "source": [
    "import math\n",
    "\n",
    "def calculate_distance(movements):\n",
    "    # Initialize the starting position\n",
    "    x, y = 0, 0\n",
    "    \n",
    "    # Process each movement command\n",
    "    for movement in movements:\n",
    "        direction, steps = movement.split()\n",
    "        steps = int(steps)\n",
    "        \n",
    "        if direction == \"UP\":\n",
    "            y += steps\n",
    "        elif direction == \"DOWN\":\n",
    "            y -= steps\n",
    "        elif direction == \"LEFT\":\n",
    "            x -= steps\n",
    "        elif direction == \"RIGHT\":\n",
    "            x += steps\n",
    "\n",
    "    # Calculate the Euclidean distance from the origin\n",
    "    distance = math.sqrt(x**2 + y**2)\n",
    "    \n",
    "    # Print the nearest integer of the distance\n",
    "    print(round(distance))\n",
    "\n",
    "# Example input\n",
    "movements = [\n",
    "    \"UP 5\",\n",
    "    \"DOWN 3\",\n",
    "    \"LEFT 3\",\n",
    "    \"RIGHT 2\",\n",
    "    \"!\"\n",
    "]\n",
    "\n",
    "# Filter out the stop command and calculate the distance\n",
    "filtered_movements = [move for move in movements if move != \"!\"]\n",
    "calculate_distance(filtered_movements)\n"
   ]
  },
  {
   "cell_type": "markdown",
   "id": "dcf5591d-564a-4e99-b9a4-70b725730279",
   "metadata": {},
   "source": [
    "### Q13) Write a program to print whether a given number is a prime number or not"
   ]
  },
  {
   "cell_type": "code",
   "execution_count": 11,
   "id": "07d69241-bb03-4fba-96ac-ed3f04d047d8",
   "metadata": {},
   "outputs": [
    {
     "name": "stdin",
     "output_type": "stream",
     "text": [
      "Enter number:  5\n"
     ]
    },
    {
     "name": "stdout",
     "output_type": "stream",
     "text": [
      "prime\n"
     ]
    }
   ],
   "source": [
    "num=int(input(\"Enter number: \"))\n",
    "if num>1 :\n",
    "    for i in range(2,(num//2)+1):\n",
    "        if (num%i)==0:\n",
    "            print(\"not prime\")\n",
    "            break\n",
    "        else:\n",
    "            print(\"prime\")\n",
    "        \n",
    "else:\n",
    "    print(\"not prime\")"
   ]
  },
  {
   "cell_type": "markdown",
   "id": "67b04755-1c77-489d-a91a-7ee3d32f7e19",
   "metadata": {},
   "source": [
    "### Q14) Print all the Armstrong numbers in a given range.\r\n",
    "Range will be provided by the user\r\n",
    "Armstrong number is a number that is equal to the sum of cubes of its digits. For example 0, 1, 153, 370, 371 and 407 are the Armstrong numbers."
   ]
  },
  {
   "cell_type": "code",
   "execution_count": 14,
   "id": "42dd3a19-cd43-48eb-bff4-8c93114a5691",
   "metadata": {},
   "outputs": [
    {
     "name": "stdin",
     "output_type": "stream",
     "text": [
      "Enter the start of the range:  207\n",
      "Enter the end of the range:  376\n"
     ]
    },
    {
     "name": "stdout",
     "output_type": "stream",
     "text": [
      "Armstrong numbers between 207 and 376 are:\n",
      "370\n",
      "371\n"
     ]
    }
   ],
   "source": [
    "def is_armstrong(n):\n",
    "    \"\"\"Function to check if a number is an Armstrong number.\"\"\"\n",
    "    num_str = str(n)\n",
    "    num_len = len(num_str)\n",
    "    sum_of_powers = sum(int(digit) ** num_len for digit in num_str)\n",
    "    return n == sum_of_powers\n",
    "\n",
    "# Get the range from the user\n",
    "start_range = int(input(\"Enter the start of the range: \"))\n",
    "end_range = int(input(\"Enter the end of the range: \"))\n",
    "\n",
    "# Find and print all Armstrong numbers in the given range\n",
    "print(f\"Armstrong numbers between {start_range} and {end_range} are:\")\n",
    "for num in range(start_range, end_range + 1):\n",
    "    if is_armstrong(num):\n",
    "        print(num)"
   ]
  },
  {
   "cell_type": "markdown",
   "id": "de5c175c-400a-4c28-8dfe-8bee04a34d62",
   "metadata": {},
   "source": [
    "### Q15) Calculate the angle between the hour hand and minute hand.\n",
    "\n",
    "Note: There can be two angles between hands; we need to print a minimum of two. Also, we need to print the floor of the final result angle. For example, if the final angle is 10.61, we need to print 10.\n",
    "\n",
    "Input:<br>\n",
    "H = 9 , M = 0<br>\n",
    "Output:<br>\n",
    "90<br>\n",
    "Explanation:<br>\n",
    "The minimum angle between hour and minute\n",
    "hand when the time is 9 is 90 degress."
   ]
  },
  {
   "cell_type": "code",
   "execution_count": 20,
   "id": "0ce97d2f-02a4-4992-8784-f1fbd977be0c",
   "metadata": {},
   "outputs": [
    {
     "name": "stdin",
     "output_type": "stream",
     "text": [
      "Enter the hour (H):  6\n",
      "Enter the minutes (M):  0\n"
     ]
    },
    {
     "name": "stdout",
     "output_type": "stream",
     "text": [
      "180\n"
     ]
    }
   ],
   "source": [
    "def calculate_angle(H, M):\n",
    "    # Calculate the angle moved by the hour hand (0.5 degrees per minute)\n",
    "    hour_angle = (H % 12) * 30 + M * 0.5\n",
    "    \n",
    "    # Calculate the angle moved by the minute hand (6 degrees per minute)\n",
    "    minute_angle = M * 6\n",
    "    \n",
    "    # Calculate the difference between the two angles\n",
    "    angle = abs(hour_angle - minute_angle)\n",
    "    \n",
    "    # Find the minimum angle\n",
    "    min_angle = min(angle, 360 - angle)\n",
    "    \n",
    "    # Print the floor of the minimum angle\n",
    "    print(int(min_angle))\n",
    "\n",
    "# Example input\n",
    "H = int(input(\"Enter the hour (H): \"))\n",
    "M = int(input(\"Enter the minutes (M): \"))\n",
    "\n",
    "# Calculate and print the angle\n",
    "calculate_angle(H, M)"
   ]
  },
  {
   "cell_type": "markdown",
   "id": "77ba0ca7-ddf9-429d-8257-5241edecdd2d",
   "metadata": {},
   "source": [
    "### Q16)Given two rectangles, find if the given two rectangles overlap or not. A rectangle is denoted by providing the x and y coordinates of two points: the left top corner and the right bottom corner of the rectangle. Two rectangles sharing a side are considered overlapping. (L1 and R1 are the extreme points of the first rectangle and L2 and R2 are the extreme points of the second rectangle).\n",
    "\n",
    "Note: It may be assumed that the rectangles are parallel to the coordinate axis.\n",
    "\n",
    "<img src='https://www.geeksforgeeks.org/wp-content/uploads/rectanglesOverlap.png' width='300' height='200'>"
   ]
  },
  {
   "cell_type": "code",
   "execution_count": 23,
   "id": "ad690eb4-60df-4fb0-a113-3b784aba7b52",
   "metadata": {},
   "outputs": [
    {
     "name": "stdin",
     "output_type": "stream",
     "text": [
      "Enter the x coordinate of the top-left corner of the first rectangle:  1\n",
      "Enter the y coordinate of the top-left corner of the first rectangle:  2\n",
      "Enter the x coordinate of the bottom-right corner of the first rectangle:  3\n",
      "Enter the y coordinate of the bottom-right corner of the first rectangle:  4\n",
      "Enter the x coordinate of the top-left corner of the second rectangle:  5\n",
      "Enter the y coordinate of the top-left corner of the second rectangle:  6\n",
      "Enter the x coordinate of the bottom-right corner of the second rectangle:  7\n",
      "Enter the y coordinate of the bottom-right corner of the second rectangle:  8\n"
     ]
    },
    {
     "name": "stdout",
     "output_type": "stream",
     "text": [
      "The rectangles do not overlap.\n"
     ]
    }
   ],
   "source": [
    "def do_overlap(L1, R1, L2, R2):\n",
    "    # If one rectangle is to the left of the other\n",
    "    if L1[0] > R2[0] or L2[0] > R1[0]:\n",
    "        return False\n",
    "    \n",
    "    # If one rectangle is above the other\n",
    "    if R1[1] > L2[1] or R2[1] > L1[1]:\n",
    "        return False\n",
    "    \n",
    "    return True\n",
    "\n",
    "# Coordinates of the first rectangle\n",
    "L1 = (int(input(\"Enter the x coordinate of the top-left corner of the first rectangle: \")),\n",
    "      int(input(\"Enter the y coordinate of the top-left corner of the first rectangle: \")))\n",
    "R1 = (int(input(\"Enter the x coordinate of the bottom-right corner of the first rectangle: \")),\n",
    "      int(input(\"Enter the y coordinate of the bottom-right corner of the first rectangle: \")))\n",
    "\n",
    "# Coordinates of the second rectangle\n",
    "L2 = (int(input(\"Enter the x coordinate of the top-left corner of the second rectangle: \")),\n",
    "      int(input(\"Enter the y coordinate of the top-left corner of the second rectangle: \")))\n",
    "R2 = (int(input(\"Enter the x coordinate of the bottom-right corner of the second rectangle: \")),\n",
    "      int(input(\"Enter the y coordinate of the bottom-right corner of the second rectangle: \")))\n",
    "\n",
    "# Check if the rectangles overlap\n",
    "if do_overlap(L1, R1, L2, R2):\n",
    "    print(\"The rectangles overlap.\")\n",
    "else:\n",
    "    print(\"The rectangles do not overlap.\")"
   ]
  },
  {
   "cell_type": "markdown",
   "id": "ec0b486e-0b62-461b-94ab-62ffef8feea6",
   "metadata": {},
   "source": []
  }
 ],
 "metadata": {
  "kernelspec": {
   "display_name": "Python 3 (ipykernel)",
   "language": "python",
   "name": "python3"
  },
  "language_info": {
   "codemirror_mode": {
    "name": "ipython",
    "version": 3
   },
   "file_extension": ".py",
   "mimetype": "text/x-python",
   "name": "python",
   "nbconvert_exporter": "python",
   "pygments_lexer": "ipython3",
   "version": "3.11.7"
  }
 },
 "nbformat": 4,
 "nbformat_minor": 5
}
